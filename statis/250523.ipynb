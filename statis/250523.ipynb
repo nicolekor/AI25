{
 "cells": [
  {
   "cell_type": "code",
   "execution_count": null,
   "id": "ca0ff9c9",
   "metadata": {},
   "outputs": [],
   "source": [
    "a = 5\n",
    "type(5)"
   ]
  },
  {
   "cell_type": "code",
   "execution_count": 1,
   "id": "ee374336",
   "metadata": {},
   "outputs": [
    {
     "name": "stdout",
     "output_type": "stream",
     "text": [
      "6은 짝수입니다.\n"
     ]
    }
   ],
   "source": [
    "# 숫자 입력 \n",
    "number = int(input(\"숫자를 입력: \"))\n",
    "\n",
    "# 짝수/홀수 구분\n",
    "if number % 2 == 0:\n",
    "    print(f\"{number}은 짝수입니다.\")\n",
    "else:\n",
    "    print(f\"{number}은 홀수입니다.\")\n"
   ]
  },
  {
   "cell_type": "code",
   "execution_count": 2,
   "id": "a10c943d",
   "metadata": {},
   "outputs": [
    {
     "name": "stdout",
     "output_type": "stream",
     "text": [
      "5 는 홀수\n"
     ]
    }
   ],
   "source": [
    "a = int(input(\"숫자 입력 - \"))\n",
    "\n",
    "if a % 2 == 0:\n",
    "    print(a, \"는 짝수\")\n",
    "else :\n",
    "    print(a, \"는 홀수\")"
   ]
  },
  {
   "cell_type": "code",
   "execution_count": 5,
   "id": "ff2eb8d7",
   "metadata": {},
   "outputs": [
    {
     "name": "stdout",
     "output_type": "stream",
     "text": [
      "5\n",
      "10\n",
      "15\n",
      "20\n",
      "25\n",
      "30\n",
      "35\n",
      "40\n",
      "45\n",
      "50\n"
     ]
    }
   ],
   "source": [
    "for number in range (52):\n",
    "    if number % 5 == 0 and number != 0:\n",
    "        print(number)"
   ]
  },
  {
   "cell_type": "code",
   "execution_count": null,
   "id": "dfcbcfc4",
   "metadata": {},
   "outputs": [
    {
     "name": "stdout",
     "output_type": "stream",
     "text": [
      "5.0 = 현재 최대값 0 = 현재 최소값\n",
      "13.0 = 현재 최대값 0 = 현재 최소값\n",
      "13.0 = 현재 최대값 -4.0 = 현재 최소값\n",
      "13.0 = 현재 최대값 -80.0 = 현재 최소값\n",
      "13.0 = 현재 최대값 -12354.0 = 현재 최소값\n",
      "195.0 = 현재 최대값 -12354.0 = 현재 최소값\n",
      "최종 결과 :\n",
      "195.0 = max\n",
      "-12354.0 = min\n"
     ]
    }
   ],
   "source": [
    "# 무한정 숫자를 입력 받음 , 입력값 중 최대값을 max 에 저장, 최소값은 min에 저장 , 숫자가 0이면 종료\n",
    "\n",
    "\n",
    "max = 0\n",
    "min = 0\n",
    "\n",
    "\n",
    "while True:\n",
    "    i = float(input(\"숫자 입력\"))\n",
    " \n",
    "    if i > max :\n",
    "        max = i\n",
    "    \n",
    "    if i < min :\n",
    "        min = i\n",
    "    \n",
    "    if i == 0:\n",
    "        break\n",
    "\n",
    "    print(max, \"= 현재 최대값\", min, \"= 현재 최소값\")\n",
    "    \n",
    "print(\"최종 결과 :\")\n",
    "print(max, \"= max\" )\n",
    "print(min, \"= min\") \n",
    "\n",
    "\n",
    "\n",
    "\n",
    "\n",
    "\n"
   ]
  },
  {
   "cell_type": "code",
   "execution_count": null,
   "id": "22443017",
   "metadata": {},
   "outputs": [],
   "source": []
  }
 ],
 "metadata": {
  "kernelspec": {
   "display_name": "base",
   "language": "python",
   "name": "python3"
  },
  "language_info": {
   "codemirror_mode": {
    "name": "ipython",
    "version": 3
   },
   "file_extension": ".py",
   "mimetype": "text/x-python",
   "name": "python",
   "nbconvert_exporter": "python",
   "pygments_lexer": "ipython3",
   "version": "3.12.7"
  }
 },
 "nbformat": 4,
 "nbformat_minor": 5
}
