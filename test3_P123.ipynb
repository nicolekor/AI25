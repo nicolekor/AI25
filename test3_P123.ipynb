{
 "cells": [
  {
   "cell_type": "code",
   "execution_count": 3,
   "metadata": {},
   "outputs": [
    {
     "name": "stdout",
     "output_type": "stream",
     "text": [
      "변환 중 에러 발생: invalid literal for int() with base 10: '안녕하세요'\n"
     ]
    }
   ],
   "source": [
    "try:\n",
    "    num1 = int(\"안녕하세요\")\n",
    "    num2 = float(\"안녕\")\n",
    "except ValueError as e:\n",
    "    print(\"변환 중 에러 발생:\", e)"
   ]
  },
  {
   "cell_type": "code",
   "execution_count": 4,
   "metadata": {},
   "outputs": [
    {
     "name": "stdout",
     "output_type": "stream",
     "text": [
      "숫자로 변환할 수 없습니다.\n"
     ]
    }
   ],
   "source": [
    "text = \"안녕하세요\"\n",
    "\n",
    "if text.isdigit():\n",
    "    num = int(text)\n",
    "else:\n",
    "    print(\"숫자로 변환할 수 없습니다.\")"
   ]
  }
 ],
 "metadata": {
  "kernelspec": {
   "display_name": "Python 3",
   "language": "python",
   "name": "python3"
  },
  "language_info": {
   "codemirror_mode": {
    "name": "ipython",
    "version": 3
   },
   "file_extension": ".py",
   "mimetype": "text/x-python",
   "name": "python",
   "nbconvert_exporter": "python",
   "pygments_lexer": "ipython3",
   "version": "3.11.9"
  }
 },
 "nbformat": 4,
 "nbformat_minor": 2
}
