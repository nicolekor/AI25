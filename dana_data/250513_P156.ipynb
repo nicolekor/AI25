{
 "cells": [
  {
   "cell_type": "code",
   "execution_count": null,
   "id": "cb0df87f-0e6d-4976-b878-cbdf3c4b813d",
   "metadata": {},
   "outputs": [],
   "source": [
    "import numpy as np\n",
    "import pandas as pd"
   ]
  },
  {
   "cell_type": "code",
   "execution_count": null,
   "id": "0333e885",
   "metadata": {},
   "outputs": [],
   "source": [
    "exam = pd.read_csv('./data/exam.csv')\n",
    "exam"
   ]
  },
  {
   "cell_type": "code",
   "execution_count": null,
   "id": "0ea9a8b4",
   "metadata": {},
   "outputs": [],
   "source": [
    "exam.assign(test = np.where(exam['science']>= 60, 'pass', 'fall'))"
   ]
  },
  {
   "cell_type": "code",
   "execution_count": null,
   "id": "e52d2728",
   "metadata": {},
   "outputs": [],
   "source": [
    "#p161\n",
    "\n",
    "exam.groupby('nclass').mean()"
   ]
  },
  {
   "cell_type": "code",
   "execution_count": null,
   "id": "979b8eef",
   "metadata": {},
   "outputs": [],
   "source": [
    "mpg = pd.read_csv('./data/mpg.csv')\n",
    "mpg"
   ]
  },
  {
   "cell_type": "code",
   "execution_count": null,
   "id": "a582937b",
   "metadata": {},
   "outputs": [],
   "source": [
    "#p163\n",
    "\n",
    "mpg.groupby(['manufacturer', 'drv']).agg(mean_cty = ('cty', 'mean'))"
   ]
  },
  {
   "cell_type": "code",
   "execution_count": null,
   "id": "d25f0996",
   "metadata": {},
   "outputs": [],
   "source": [
    "mpg.query('manufacturer == \"audi\"').groupby(['drv']).agg(n = ('drv', 'count'))"
   ]
  },
  {
   "cell_type": "code",
   "execution_count": null,
   "id": "0364a299",
   "metadata": {},
   "outputs": [],
   "source": [
    "mpg.query('manufacturer == \"chevrolet\"').groupby(['drv']).agg(n = ('drv', 'count'))"
   ]
  },
  {
   "cell_type": "code",
   "execution_count": null,
   "id": "956ec737",
   "metadata": {},
   "outputs": [],
   "source": [
    "mpg.groupby('drv').agg(n = ('drv', 'count'))"
   ]
  },
  {
   "cell_type": "code",
   "execution_count": null,
   "id": "7cdd8543",
   "metadata": {},
   "outputs": [],
   "source": [
    "mpg['drv'].value_counts()"
   ]
  },
  {
   "cell_type": "code",
   "execution_count": null,
   "id": "9f75d619",
   "metadata": {},
   "outputs": [],
   "source": [
    "mpg['drv'].value_counts().query('n > 100')  #시리즈 자료 구조라 query 사용할 수 없음"
   ]
  },
  {
   "cell_type": "code",
   "execution_count": null,
   "id": "8079306e",
   "metadata": {},
   "outputs": [],
   "source": [
    "mpg['drv'].value_counts().to_frame('n').rename_axis('drv').query('n > 100')"
   ]
  },
  {
   "cell_type": "code",
   "execution_count": null,
   "id": "b22a44ec",
   "metadata": {},
   "outputs": [],
   "source": [
    "mpg.query('category == \"suv\"').assign(total = (mpg['hwy'] + mpg['cty'])/2)\\\n",
    "    .groupby('manufacturer').agg(mean_tot = ('total', 'mean'))\\\n",
    "    .sort_values('mean_tot', ascending=False).head()\n",
    "\n",
    "#sql 에서는 groupby + having 이 세트인 반면, 파이썬에서는 groupby + agg 를 세트로 외우기"
   ]
  },
  {
   "cell_type": "code",
   "execution_count": null,
   "id": "48b88a00",
   "metadata": {},
   "outputs": [],
   "source": [
    "#166 q1\n",
    "mpg.groupby('category').agg(mean_cty = ('cty', 'mean'))"
   ]
  },
  {
   "cell_type": "code",
   "execution_count": null,
   "id": "5a87d3a7",
   "metadata": {},
   "outputs": [],
   "source": [
    "#166 q2\n",
    "mpg.groupby('category').agg(mean_cty = ('cty', 'mean')).sort_values('mean_cty', ascending=False)"
   ]
  },
  {
   "cell_type": "code",
   "execution_count": null,
   "id": "b4033693",
   "metadata": {},
   "outputs": [],
   "source": [
    "#166 q3\n",
    "mpg.groupby('manufacturer').agg(mean_hwy = ('hwy', 'mean')).head(3)"
   ]
  },
  {
   "cell_type": "code",
   "execution_count": null,
   "id": "095b7eb9",
   "metadata": {},
   "outputs": [],
   "source": [
    "#168\n",
    "#중간고사 데이터 만들기\n",
    "test1 = pd.DataFrame({'id' : [1, 2,3,4,5],\n",
    "                       'midterm' : [60, 80, 70, 90, 85]})\n",
    "test2 = pd.DataFrame({'id' : [1,2,3,4,5],\n",
    "                      'final' : [70, 83, 65, 95, 80]})"
   ]
  },
  {
   "cell_type": "code",
   "execution_count": null,
   "id": "0216fbe6",
   "metadata": {},
   "outputs": [],
   "source": [
    "test1"
   ]
  },
  {
   "cell_type": "code",
   "execution_count": null,
   "id": "eb26cf6a",
   "metadata": {},
   "outputs": [],
   "source": [
    "test2"
   ]
  },
  {
   "cell_type": "code",
   "execution_count": null,
   "id": "13ea5a64",
   "metadata": {},
   "outputs": [],
   "source": [
    "#169 데이터프레임 가로 합치기\n",
    "total = pd.merge(test1, test2, how = 'left', on = 'id')\n",
    "total "
   ]
  },
  {
   "cell_type": "code",
   "execution_count": null,
   "id": "220377d2",
   "metadata": {},
   "outputs": [],
   "source": [
    "name = pd.DataFrame({'nclass' : [1,2,3,4,5],\n",
    "                     'teacher' : ['kim', 'lee', 'park', 'choi', 'jung']})\n",
    "name"
   ]
  },
  {
   "cell_type": "code",
   "execution_count": null,
   "id": "8260f5a7",
   "metadata": {},
   "outputs": [],
   "source": [
    "exam_new = pd.merge(exam, name, how='left', on='nclass')\n",
    "exam_new"
   ]
  },
  {
   "cell_type": "code",
   "execution_count": null,
   "id": "2db7e675",
   "metadata": {},
   "outputs": [],
   "source": [
    "group_a = pd.DataFrame({'id' : [1,2,3,4,5],\n",
    "                       'test' : [60, 80, 70, 90, 85]})\n",
    "group_b = pd.DataFrame({'id' : [1,2,3,4,5],\n",
    "                      'test' : [70, 83, 65, 95, 80]})"
   ]
  },
  {
   "cell_type": "code",
   "execution_count": null,
   "id": "a043d071",
   "metadata": {},
   "outputs": [],
   "source": [
    "group_a"
   ]
  },
  {
   "cell_type": "code",
   "execution_count": null,
   "id": "c4e9e16c",
   "metadata": {},
   "outputs": [],
   "source": [
    "group_b"
   ]
  },
  {
   "cell_type": "code",
   "execution_count": null,
   "id": "c443e889",
   "metadata": {},
   "outputs": [],
   "source": [
    "# 세로 합치기 할 때는 concat 사용 \n",
    "group_all = pd.concat([group_a, group_b])\n",
    "group_all"
   ]
  },
  {
   "cell_type": "markdown",
   "id": "df16880f",
   "metadata": {},
   "source": [
    "#177 데이터 정제 : null 결측치, noise 이상값 제거"
   ]
  },
  {
   "cell_type": "code",
   "execution_count": null,
   "id": "ae169646",
   "metadata": {},
   "outputs": [],
   "source": [
    "#178 \n",
    "df = pd.DataFrame({'sex' : ['M', 'F', np.nan, 'M', 'F'],\n",
    "                   'score' : [5,4,3,4, np.nan]})\n",
    "df"
   ]
  },
  {
   "cell_type": "code",
   "execution_count": null,
   "id": "0b27aac6",
   "metadata": {},
   "outputs": [],
   "source": [
    "#결측치 확인하기 pd.isna()\n",
    "\n",
    "pd.isna(df)"
   ]
  },
  {
   "cell_type": "code",
   "execution_count": null,
   "id": "0dee6f51",
   "metadata": {},
   "outputs": [],
   "source": [
    "pd.isna(df).sum()"
   ]
  },
  {
   "cell_type": "code",
   "execution_count": null,
   "id": "1093abc8",
   "metadata": {},
   "outputs": [],
   "source": [
    "df.dropna(subset=['score'])"
   ]
  },
  {
   "cell_type": "code",
   "execution_count": null,
   "id": "04b17c68",
   "metadata": {},
   "outputs": [],
   "source": [
    "df_nomiss = df.dropna(subset=['score'])\n",
    "df_nomiss['score'] +1"
   ]
  },
  {
   "cell_type": "code",
   "execution_count": null,
   "id": "a13c5605",
   "metadata": {},
   "outputs": [],
   "source": [
    "df_nomiss = df.dropna(subset=['score', 'sex'])\n",
    "df_nomiss\n",
    "\n"
   ]
  },
  {
   "cell_type": "code",
   "execution_count": null,
   "id": "cf277819",
   "metadata": {},
   "outputs": [],
   "source": [
    "df_nomiss2 = df.dropna()\n",
    "df_nomiss2"
   ]
  },
  {
   "cell_type": "markdown",
   "id": "c6027a5a",
   "metadata": {},
   "source": [
    "#183 평균값으로 결측치 대체"
   ]
  },
  {
   "cell_type": "code",
   "execution_count": null,
   "id": "aea8c793",
   "metadata": {},
   "outputs": [],
   "source": [
    "exam = pd.read_csv('./data/exam.csv')\n",
    "exam.loc[[2,7,14], ['math']] = np.nan  #2, 7 ,14행의 math 값에 NaN 할당\n",
    "exam"
   ]
  },
  {
   "cell_type": "code",
   "execution_count": null,
   "id": "b4f73bce",
   "metadata": {},
   "outputs": [],
   "source": [
    "exam['math'].mean()"
   ]
  },
  {
   "cell_type": "code",
   "execution_count": null,
   "id": "b994f670",
   "metadata": {},
   "outputs": [],
   "source": [
    "exam['math'] = exam['math'].fillna(55)\n",
    "exam"
   ]
  },
  {
   "cell_type": "code",
   "execution_count": null,
   "id": "21884963",
   "metadata": {},
   "outputs": [],
   "source": [
    "exam['math'].isna().sum()  #결측치 빈도 확인"
   ]
  },
  {
   "cell_type": "code",
   "execution_count": null,
   "id": "a725c85c",
   "metadata": {},
   "outputs": [],
   "source": [
    "mpg = pd.read_csv('./data/mpg.csv')\n",
    "mpg.loc [[62, 123, 130, 152, 211], \"hwy\"] = np.nan"
   ]
  },
  {
   "cell_type": "code",
   "execution_count": null,
   "id": "ae5b0a76",
   "metadata": {},
   "outputs": [],
   "source": [
    "mpg[['drv', 'hwy']].isna().sum()"
   ]
  },
  {
   "cell_type": "code",
   "execution_count": null,
   "id": "717e83e3",
   "metadata": {},
   "outputs": [],
   "source": [
    "mpg.dropna(subset=['hwy']).groupby('drv').agg(mean_hwy = ('hwy', 'mean'))\n"
   ]
  },
  {
   "cell_type": "markdown",
   "id": "c6299088",
   "metadata": {},
   "source": [
    "#186 이상치 정제하기"
   ]
  },
  {
   "cell_type": "code",
   "execution_count": null,
   "id": "18d860dd",
   "metadata": {},
   "outputs": [],
   "source": [
    "df = pd.DataFrame({'sex' : [1,2,1,3,2,1],\n",
    "                   'score' : [5,4,3,4,2,6]})\n",
    "df"
   ]
  },
  {
   "cell_type": "code",
   "execution_count": null,
   "id": "51b7e6fe",
   "metadata": {},
   "outputs": [],
   "source": [
    "df['sex'].value_counts().sort_index()"
   ]
  },
  {
   "cell_type": "code",
   "execution_count": null,
   "id": "4ccbb9ac",
   "metadata": {},
   "outputs": [],
   "source": [
    "df['score'].value_counts().sort_index()"
   ]
  },
  {
   "cell_type": "code",
   "execution_count": null,
   "id": "b3afce3b",
   "metadata": {},
   "outputs": [],
   "source": [
    "df['sex'] = np.where(df['sex'] == 3, np.nan, df['sex'])\n",
    "df"
   ]
  },
  {
   "cell_type": "code",
   "execution_count": null,
   "id": "71258136",
   "metadata": {},
   "outputs": [],
   "source": [
    "df['score'] = np.where(df['score'] > 5, np.nan, df['score'])  \n",
    "#where를 쓰면 if & for조건 반복문 형식과 같다: 5보다 크면 nan 값으로 넣고 아니면 기존 점수 그대로 넣어라 \n",
    "\n",
    "df"
   ]
  },
  {
   "cell_type": "code",
   "execution_count": null,
   "id": "c8068d50",
   "metadata": {},
   "outputs": [],
   "source": [
    "#p188\n",
    "df.dropna(subset=['sex', 'score']).groupby('sex').agg(mean_score = ('score', 'mean'))"
   ]
  },
  {
   "cell_type": "code",
   "execution_count": null,
   "id": "48511d84",
   "metadata": {},
   "outputs": [],
   "source": []
  }
 ],
 "metadata": {
  "kernelspec": {
   "display_name": "mydana",
   "language": "python",
   "name": "mydana"
  },
  "language_info": {
   "codemirror_mode": {
    "name": "ipython",
    "version": 3
   },
   "file_extension": ".py",
   "mimetype": "text/x-python",
   "name": "python",
   "nbconvert_exporter": "python",
   "pygments_lexer": "ipython3",
   "version": "3.11.11"
  }
 },
 "nbformat": 4,
 "nbformat_minor": 5
}
