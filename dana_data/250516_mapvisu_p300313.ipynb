{
 "cells": [
  {
   "cell_type": "code",
   "execution_count": null,
   "id": "7fd00449",
   "metadata": {},
   "outputs": [],
   "source": [
    "# pip install folium"
   ]
  },
  {
   "cell_type": "code",
   "execution_count": null,
   "id": "cb0df87f-0e6d-4976-b878-cbdf3c4b813d",
   "metadata": {},
   "outputs": [],
   "source": [
    "import numpy as np\n",
    "import pandas as pd\n",
    "import seaborn as sns\n",
    "import matplotlib.pyplot as plt\n",
    "import re\n",
    "import konlpy\n",
    "from wordcloud import WordCloud \n",
    "import PIL\n",
    "import json\n",
    "import folium\n",
    "import webbrowser"
   ]
  },
  {
   "cell_type": "code",
   "execution_count": null,
   "id": "7ab80c9f",
   "metadata": {},
   "outputs": [],
   "source": [
    "# p301\n",
    "\n",
    "geo = json.load(open('./data/SIG.geojson', encoding='UTF-8'))"
   ]
  },
  {
   "cell_type": "code",
   "execution_count": null,
   "id": "c6dc261b",
   "metadata": {},
   "outputs": [],
   "source": [
    "geo['features'][0]['properties']\n",
    "geo['features'][0]['geometry']"
   ]
  },
  {
   "cell_type": "code",
   "execution_count": null,
   "id": "0ca29bf2",
   "metadata": {},
   "outputs": [],
   "source": [
    "df_pop = pd.read_csv('./data/population_sig.csv')\n",
    "df_pop.head()"
   ]
  },
  {
   "cell_type": "code",
   "execution_count": null,
   "id": "2b6042b0",
   "metadata": {},
   "outputs": [],
   "source": [
    "df_pop.info()"
   ]
  },
  {
   "cell_type": "code",
   "execution_count": null,
   "id": "9f2c7891",
   "metadata": {},
   "outputs": [],
   "source": [
    "# 지도는 숫자가 아니라 글씨여야 인식이 되기 때문에 int 를 str 로 바꿈 \n",
    "\n",
    "df_pop['code'] = df_pop['code'].astype(str)"
   ]
  },
  {
   "cell_type": "code",
   "execution_count": null,
   "id": "3539b71f",
   "metadata": {},
   "outputs": [],
   "source": [
    "folium.Map(location=[35.95, 127.7],\n",
    "           zoom_start = 8)"
   ]
  },
  {
   "cell_type": "code",
   "execution_count": null,
   "id": "e0d1cd19",
   "metadata": {},
   "outputs": [],
   "source": [
    "map_sig = folium.Map(location=[35.95, 127.7],\n",
    "                     zoom_start = 8,\n",
    "                     tiles = 'cartodbpositron')\n",
    "map_sig"
   ]
  },
  {
   "cell_type": "code",
   "execution_count": null,
   "id": "a051b7f8",
   "metadata": {},
   "outputs": [],
   "source": [
    "folium.Choropleth(\n",
    "    geo_data = geo,\n",
    "    data = df_pop,\n",
    "    columns = ('code', 'pop'),\n",
    "    key_on = 'feature.properties.SIG_CD').add_to(map_sig)\n",
    "\n",
    "map_sig"
   ]
  },
  {
   "cell_type": "code",
   "execution_count": null,
   "id": "57be59fc",
   "metadata": {},
   "outputs": [],
   "source": [
    "#p306 계급 구간 정하기 - 백분율별로 6개 등급으로 나눔\n",
    "\n",
    "bins = list(df_pop[\"pop\"].quantile([0, 0.2, 0.4, 0.6, 0.8, 1]))\n",
    "bins"
   ]
  },
  {
   "cell_type": "code",
   "execution_count": null,
   "id": "7b372f80",
   "metadata": {},
   "outputs": [],
   "source": [
    "# 디자인 수정하기\n",
    "\n",
    "map_sig = folium.Map(location = [35.95, 127.,],\n",
    "                     zoom_start = 8,\n",
    "                     tiles = 'cartodbpositron')"
   ]
  },
  {
   "cell_type": "code",
   "execution_count": null,
   "id": "81f55f4a",
   "metadata": {},
   "outputs": [],
   "source": [
    "folium.Choropleth(\n",
    "    geo_data = geo,\n",
    "    data = df_pop,\n",
    "    columns = ('code', 'pop'),\n",
    "    key_on = 'feature.properties.SIG_CD',\n",
    "    fill_color = 'YlGnBu',\n",
    "    fill_opacity = 1,\n",
    "    line_opacity = 0.5,\n",
    "    bins = bins).add_to(map_sig)\n",
    "\n",
    "map_sig"
   ]
  },
  {
   "cell_type": "code",
   "execution_count": null,
   "id": "841a4d10",
   "metadata": {},
   "outputs": [],
   "source": [
    "# p308 서울시 동별 외국인 인구 단계 구분도 만들기\n",
    "\n",
    "geo_seoul = json.load(open('./data/EMD_Seoul.geojson', encoding='UTF-8'))"
   ]
  },
  {
   "cell_type": "code",
   "execution_count": null,
   "id": "75fe791d",
   "metadata": {},
   "outputs": [],
   "source": [
    "# 행정구역 코드 출력\n",
    "geo_seoul['features'][0]['properties']"
   ]
  },
  {
   "cell_type": "code",
   "execution_count": null,
   "id": "6d113fc1",
   "metadata": {},
   "outputs": [],
   "source": [
    "# 위도, 경도 좌표 출력\n",
    "\n",
    "geo_seoul['features'][0]['geometry']"
   ]
  },
  {
   "cell_type": "code",
   "execution_count": null,
   "id": "82e9097d",
   "metadata": {},
   "outputs": [],
   "source": [
    "foreigner = pd.read_csv('./data/Foreigner_EMD_Seoul.csv', encoding='UTF-8')\n",
    "foreigner.head()"
   ]
  },
  {
   "cell_type": "code",
   "execution_count": null,
   "id": "276c782a",
   "metadata": {},
   "outputs": [],
   "source": [
    "foreigner.info()"
   ]
  },
  {
   "cell_type": "code",
   "execution_count": null,
   "id": "76c3c8b3",
   "metadata": {},
   "outputs": [],
   "source": [
    "foreigner['code'] = foreigner['code'].astype(str)"
   ]
  },
  {
   "cell_type": "code",
   "execution_count": null,
   "id": "6316446c",
   "metadata": {},
   "outputs": [],
   "source": [
    "bins = list(foreigner[\"pop\"].quantile([0, 0.2, 0.4, 0.6, 0.8, 1]))\n",
    "bins"
   ]
  },
  {
   "cell_type": "code",
   "execution_count": null,
   "id": "d4c0929a",
   "metadata": {},
   "outputs": [],
   "source": [
    "geo_seoul['features'][0]['properties']\n"
   ]
  },
  {
   "cell_type": "code",
   "execution_count": null,
   "id": "e940c3a5",
   "metadata": {},
   "outputs": [],
   "source": [
    "# p320 배경지도 만들기\n",
    "\n",
    "map_seoul = folium.Map(location=[37.56, 127],\n",
    "                       zoom_start = 12,\n",
    "                       titles = 'cartodbpositron')\n"
   ]
  },
  {
   "cell_type": "code",
   "execution_count": null,
   "id": "1a854ae1",
   "metadata": {},
   "outputs": [],
   "source": [
    "print(foreigner['pop'].describe())\n"
   ]
  },
  {
   "cell_type": "code",
   "execution_count": null,
   "id": "49f58b80",
   "metadata": {},
   "outputs": [],
   "source": [
    "## 단계구분도 만들기\n",
    "\n",
    "# 지도 데이터\n",
    "# 통계 데이터\n",
    "# foreigner 행정 구역 코드, 인구\n",
    "# geo_seoul 행정 구역 코드\n",
    "# 컬러맵\n",
    "# 결측치 색깔\n",
    "# 투명도\n",
    "# 경계선 투명도\n",
    "# 계급 구간 기준값\n",
    "# 배경 지도에 추가\n",
    "folium.Choropleth(geo_data = geo_seoul,\n",
    "                  data = foreigner,\n",
    "                  columns = ('code', 'pop'),\n",
    "                  key_on = 'feature.properties.ADM_DR_CD',\n",
    "                  fill_color = 'Blues',\n",
    "                  nan_fill_color = 'White',\n",
    "                  fill_opacity = 1,\n",
    "                  line_opacity = 0.5,\n",
    "                  bins = bins) \\\n",
    "      .add_to(map_seoul)\n",
    "\n",
    "map_seoul"
   ]
  },
  {
   "cell_type": "code",
   "execution_count": null,
   "id": "9fa0eb78",
   "metadata": {},
   "outputs": [],
   "source": [
    "# p312 구 경계선 추가하기\n",
    "\n",
    "geo_seoul_sig = json.load(open('./data/SIG_Seoul.geojson', encoding='UTF-8'))"
   ]
  },
  {
   "cell_type": "code",
   "execution_count": null,
   "id": "107ac99b",
   "metadata": {},
   "outputs": [],
   "source": [
    "#서울 구 라인 추가\n",
    "folium.Choropleth(geo_data=geo_seoul_sig,\n",
    "                  fill_opacity = 0,\n",
    "                  line_weight = 4).add_to(map_seoul)\n",
    "\n",
    "map_seoul"
   ]
  },
  {
   "cell_type": "code",
   "execution_count": null,
   "id": "09e15869",
   "metadata": {},
   "outputs": [],
   "source": [
    "map_seoul.save('map_seoul.html')"
   ]
  },
  {
   "cell_type": "code",
   "execution_count": null,
   "id": "a1110d7f",
   "metadata": {},
   "outputs": [],
   "source": [
    "webbrowser.open_new('map_seoul.html')"
   ]
  },
  {
   "cell_type": "code",
   "execution_count": null,
   "id": "2229f7a1",
   "metadata": {},
   "outputs": [],
   "source": []
  }
 ],
 "metadata": {
  "kernelspec": {
   "display_name": "mydana",
   "language": "python",
   "name": "mydana"
  },
  "language_info": {
   "codemirror_mode": {
    "name": "ipython",
    "version": 3
   },
   "file_extension": ".py",
   "mimetype": "text/x-python",
   "name": "python",
   "nbconvert_exporter": "python",
   "pygments_lexer": "ipython3",
   "version": "3.11.11"
  }
 },
 "nbformat": 4,
 "nbformat_minor": 5
}
