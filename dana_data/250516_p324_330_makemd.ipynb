{
 "cells": [
  {
   "cell_type": "markdown",
   "id": "d11ffcf1-9dfa-4f46-93a6-a6da99ae1378",
   "metadata": {},
   "source": [
    "# p322 마크다운으로 데이터분석보고서 만들기"
   ]
  },
  {
   "cell_type": "markdown",
   "id": "683b5dc9-761b-4a6c-be87-1407dae175bd",
   "metadata": {},
   "source": [
    "## 마크다운 문법\n",
    "\n",
    "### * 는 기울임체, ** 강조체, ~~ 취소선을 만든다 \n",
    "\n",
    "### 문장안에 코드를 입력할 때 코드 앞뒤에 백틱 ' 을 입력하면 음영을 넣는다\n"
   ]
  },
  {
   "cell_type": "code",
   "execution_count": 15,
   "id": "bcc6922d-5aff-411e-acb4-7e010b275a21",
   "metadata": {},
   "outputs": [
    {
     "data": {
      "text/plain": [
       "<Axes: xlabel='drv', ylabel='count'>"
      ]
     },
     "execution_count": 15,
     "metadata": {},
     "output_type": "execute_result"
    },
    {
     "data": {
      "image/png": "[encoded data removed]",
      "text/plain": [
       "<Figure size 640x480 with 1 Axes>"
      ]
     },
     "metadata": {},
     "output_type": "display_data"
    }
   ],
   "source": [
    "sns.countplot(data=df, x='drv', hue='drv', palette=['red', 'blue', 'green'], legend=False)"
   ]
  },
  {
   "cell_type": "markdown",
   "id": "619eb929",
   "metadata": {},
   "source": [
    "$$\n",
    "\\begin{pmatrix}\n",
    "a_{11} & a_{12} \\\\\n",
    "a_{21} & a_{22}\n",
    "\\end{pmatrix}\n",
    "\\quad\n",
    "\\begin{bmatrix}\n",
    "2 & 1 & 2 & 3 & \\\\\n",
    "5 & 6 & 7 & 8 & \\\\\n",
    "9 & 1 & 2 & 3 & \\\\\n",
    "\\end{bmatrix}\n",
    "$$\n"
   ]
  },
  {
   "cell_type": "markdown",
   "id": "9c93eed3",
   "metadata": {},
   "source": [
    "$$\n",
    "\\frac{22}{44 \\binom{24}{e}} = \\int_3^6 \\sum_{x=i}^6 \\sin^{e-1} \\rho\n",
    "$$\n"
   ]
  }
 ],
 "metadata": {
  "kernelspec": {
   "display_name": "mydana",
   "language": "python",
   "name": "mydana"
  },
  "language_info": {
   "codemirror_mode": {
    "name": "ipython",
    "version": 3
   },
   "file_extension": ".py",
   "mimetype": "text/x-python",
   "name": "python",
   "nbconvert_exporter": "python",
   "pygments_lexer": "ipython3",
   "version": "3.11.11"
  }
 },
 "nbformat": 4,
 "nbformat_minor": 5
}
