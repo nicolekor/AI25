{
 "cells": [
  {
   "cell_type": "code",
   "execution_count": null,
   "id": "ec4ff32c",
   "metadata": {},
   "outputs": [],
   "source": [
    "import math"
   ]
  },
  {
   "cell_type": "code",
   "execution_count": null,
   "id": "d8ff0982",
   "metadata": {},
   "outputs": [
    {
     "name": "stdout",
     "output_type": "stream",
     "text": [
      "# 원의 둘레와 넓이를 구함\n",
      "원의 둘레: -12.566370614359172\n",
      "원의 넓이: 12.566370614359172\n",
      "\n"
     ]
    }
   ],
   "source": [
    "#491, 492\n",
    "\n",
    "class Circle: \n",
    "    def __init__(self, radius):\n",
    "        self.radius = radius\n",
    "    def get_circumference(self):\n",
    "        return 2* math.pi * self.radius\n",
    "    def get_area(self):\n",
    "        return math.pi * (self.radius ** 2)\n",
    "    \n",
    "\n",
    "circle = Circle(10)\n",
    "circle.radius = -2\n",
    "print(\"# 원의 둘레와 넓이를 구함\")\n",
    "print(\"원의 둘레:\", circle.get_circumference())\n",
    "print(\"원의 넓이:\", circle.get_area())\n",
    "print()\n",
    "\n",
    "#print(\"#__ radius에 접근함\")\n",
    "#print(circle.__radius)\n",
    "\n",
    "## self. 랑 radius 사이에 __ 를 안하면 원의 지름으로 양수가 아닌 음수를 넣어도 값을 계산해버림"
   ]
  },
  {
   "cell_type": "code",
   "execution_count": 10,
   "id": "e56ff2eb",
   "metadata": {},
   "outputs": [
    {
     "name": "stdout",
     "output_type": "stream",
     "text": [
      "# 원의 둘레와 넓이를 구함\n",
      "원의 둘레: 62.83185307179586\n",
      "원의 넓이: 314.1592653589793\n",
      "\n",
      "#__ radius에 접근함\n",
      "10\n",
      "\n",
      "#반지름을 변경하고 원의 둘레와 넓이를 구한다\n",
      "원의 둘레: 12.566370614359172\n",
      "원의 넓이: 12.566370614359172\n"
     ]
    }
   ],
   "source": [
    "#492, 493\n",
    "\n",
    "class Circle: \n",
    "    def __init__(self, radius):\n",
    "        self.__radius = radius\n",
    "    def get_circumference(self):\n",
    "        return 2* math.pi * self.__radius\n",
    "    def get_area(self):\n",
    "        return math.pi * (self.__radius ** 2)\n",
    "    \n",
    "#게터와 세터를 선언\n",
    "    def get_radius(self):\n",
    "        return self.__radius\n",
    "    def set_radius(self, value):\n",
    "        self.__radius = value\n",
    "\n",
    "circle = Circle(10)\n",
    "print(\"# 원의 둘레와 넓이를 구함\")\n",
    "print(\"원의 둘레:\", circle.get_circumference())\n",
    "print(\"원의 넓이:\", circle.get_area())\n",
    "print()\n",
    "\n",
    "print(\"#__ radius에 접근함\")\n",
    "print(circle.get_radius())\n",
    "print()\n",
    "\n",
    "circle.set_radius(2)\n",
    "print(\"#반지름을 변경하고 원의 둘레와 넓이를 구한다\")\n",
    "print(\"원의 둘레:\", circle.get_circumference())\n",
    "print(\"원의 넓이:\", circle.get_area())\n"
   ]
  },
  {
   "cell_type": "code",
   "execution_count": 15,
   "id": "86b47772",
   "metadata": {},
   "outputs": [
    {
     "name": "stdout",
     "output_type": "stream",
     "text": [
      "# 데코레이터를 사용한 getter와 setter\n",
      "원래 원의 반지름: 10\n",
      "변경된 원의 반지름: 2\n",
      "\n",
      "# 강제로 예외 발생\n"
     ]
    },
    {
     "ename": "TypeError",
     "evalue": "길이는 양의 숫자만 가능",
     "output_type": "error",
     "traceback": [
      "\u001b[31m---------------------------------------------------------------------------\u001b[39m",
      "\u001b[31mTypeError\u001b[39m                                 Traceback (most recent call last)",
      "\u001b[36mCell\u001b[39m\u001b[36m \u001b[39m\u001b[32mIn[15]\u001b[39m\u001b[32m, line 31\u001b[39m\n\u001b[32m     28\u001b[39m \u001b[38;5;28mprint\u001b[39m()\n\u001b[32m     30\u001b[39m \u001b[38;5;28mprint\u001b[39m(\u001b[33m\"\u001b[39m\u001b[33m# 강제로 예외 발생\u001b[39m\u001b[33m\"\u001b[39m)\n\u001b[32m---> \u001b[39m\u001b[32m31\u001b[39m \u001b[43mcircle\u001b[49m\u001b[43m.\u001b[49m\u001b[43mradius\u001b[49m = -\u001b[32m10\u001b[39m\n",
      "\u001b[36mCell\u001b[39m\u001b[36m \u001b[39m\u001b[32mIn[15]\u001b[39m\u001b[32m, line 20\u001b[39m, in \u001b[36mCircle.radius\u001b[39m\u001b[34m(self, value)\u001b[39m\n\u001b[32m     17\u001b[39m \u001b[38;5;129m@radius\u001b[39m.setter\n\u001b[32m     18\u001b[39m \u001b[38;5;28;01mdef\u001b[39;00m\u001b[38;5;250m \u001b[39m\u001b[34mradius\u001b[39m(\u001b[38;5;28mself\u001b[39m, value):\n\u001b[32m     19\u001b[39m     \u001b[38;5;28;01mif\u001b[39;00m value <=\u001b[32m0\u001b[39m:\n\u001b[32m---> \u001b[39m\u001b[32m20\u001b[39m         \u001b[38;5;28;01mraise\u001b[39;00m \u001b[38;5;167;01mTypeError\u001b[39;00m(\u001b[33m\"\u001b[39m\u001b[33m길이는 양의 숫자만 가능\u001b[39m\u001b[33m\"\u001b[39m)\n\u001b[32m     21\u001b[39m     \u001b[38;5;28mself\u001b[39m.__radius = value\n",
      "\u001b[31mTypeError\u001b[39m: 길이는 양의 숫자만 가능"
     ]
    }
   ],
   "source": [
    "#p494\n",
    "\n",
    "#492, 493\n",
    "\n",
    "class Circle: \n",
    "    def __init__(self, radius):\n",
    "        self.__radius = radius\n",
    "    def get_circumference(self):\n",
    "        return 2* math.pi * self.__radius\n",
    "    def get_area(self):\n",
    "        return math.pi * (self.__radius ** 2)\n",
    "    \n",
    "#게터와 세터를 선언\n",
    "    @property\n",
    "    def radius(self):\n",
    "        return self.__radius\n",
    "    @radius.setter\n",
    "    def radius(self, value):\n",
    "        if value <=0:\n",
    "            raise TypeError(\"길이는 양의 숫자만 가능\")\n",
    "        self.__radius = value\n",
    "\n",
    "print(\"# 데코레이터를 사용한 getter와 setter\")\n",
    "circle = Circle(10)\n",
    "print(\"원래 원의 반지름:\", circle.radius)\n",
    "circle.radius = 2\n",
    "print(\"변경된 원의 반지름:\", circle.radius)\n",
    "print()\n",
    "\n",
    "print(\"# 강제로 예외 발생\")\n",
    "circle.radius = -10\n",
    "\n"
   ]
  },
  {
   "cell_type": "code",
   "execution_count": 14,
   "id": "fb291df5",
   "metadata": {},
   "outputs": [
    {
     "name": "stdout",
     "output_type": "stream",
     "text": [
      "# 데코레이터를 사용한 getter와 setter\n",
      "원래 원의 반지름: 10\n",
      "변경된 원의 반지름: 2\n",
      "\n",
      "# 강제로 예외 발생\n"
     ]
    },
    {
     "ename": "TypeError",
     "evalue": "길이는 양의 숫자만 가능",
     "output_type": "error",
     "traceback": [
      "\u001b[31m---------------------------------------------------------------------------\u001b[39m",
      "\u001b[31mTypeError\u001b[39m                                 Traceback (most recent call last)",
      "\u001b[36mCell\u001b[39m\u001b[36m \u001b[39m\u001b[32mIn[14]\u001b[39m\u001b[32m, line 31\u001b[39m\n\u001b[32m     28\u001b[39m \u001b[38;5;28mprint\u001b[39m()\n\u001b[32m     30\u001b[39m \u001b[38;5;28mprint\u001b[39m(\u001b[33m\"\u001b[39m\u001b[33m# 강제로 예외 발생\u001b[39m\u001b[33m\"\u001b[39m)\n\u001b[32m---> \u001b[39m\u001b[32m31\u001b[39m \u001b[43mcircle\u001b[49m\u001b[43m.\u001b[49m\u001b[43mradius\u001b[49m = -\u001b[32m10\u001b[39m  \u001b[38;5;66;03m# 여기서 TypeError 발생\u001b[39;00m\n",
      "\u001b[36mCell\u001b[39m\u001b[36m \u001b[39m\u001b[32mIn[14]\u001b[39m\u001b[32m, line 20\u001b[39m, in \u001b[36mCircle.radius\u001b[39m\u001b[34m(self, value)\u001b[39m\n\u001b[32m     17\u001b[39m \u001b[38;5;129m@radius\u001b[39m.setter\n\u001b[32m     18\u001b[39m \u001b[38;5;28;01mdef\u001b[39;00m\u001b[38;5;250m \u001b[39m\u001b[34mradius\u001b[39m(\u001b[38;5;28mself\u001b[39m, value):\n\u001b[32m     19\u001b[39m     \u001b[38;5;28;01mif\u001b[39;00m value <= \u001b[32m0\u001b[39m:\n\u001b[32m---> \u001b[39m\u001b[32m20\u001b[39m         \u001b[38;5;28;01mraise\u001b[39;00m \u001b[38;5;167;01mTypeError\u001b[39;00m(\u001b[33m\"\u001b[39m\u001b[33m길이는 양의 숫자만 가능\u001b[39m\u001b[33m\"\u001b[39m)\n\u001b[32m     21\u001b[39m     \u001b[38;5;28mself\u001b[39m.__radius = value\n",
      "\u001b[31mTypeError\u001b[39m: 길이는 양의 숫자만 가능"
     ]
    }
   ],
   "source": [
    "import math\n",
    "\n",
    "class Circle: \n",
    "    def __init__(self, radius):\n",
    "        self.__radius = radius\n",
    "\n",
    "    def get_circumference(self):\n",
    "        return 2 * math.pi * self.__radius\n",
    "\n",
    "    def get_area(self):\n",
    "        return math.pi * (self.__radius ** 2)\n",
    "\n",
    "    @property\n",
    "    def radius(self):\n",
    "        return self.__radius\n",
    "\n",
    "    @radius.setter\n",
    "    def radius(self, value):\n",
    "        if value <= 0:\n",
    "            raise TypeError(\"길이는 양의 숫자만 가능\")\n",
    "        self.__radius = value  # 제대로 된 위치!\n",
    "\n",
    "print(\"# 데코레이터를 사용한 getter와 setter\")\n",
    "circle = Circle(10)\n",
    "print(\"원래 원의 반지름:\", circle.radius)\n",
    "circle.radius = 2\n",
    "print(\"변경된 원의 반지름:\", circle.radius)\n",
    "print()\n",
    "\n",
    "print(\"# 강제로 예외 발생\")\n",
    "circle.radius = -10  # 여기서 TypeError 발생\n"
   ]
  },
  {
   "cell_type": "code",
   "execution_count": 16,
   "id": "dd0142c8",
   "metadata": {},
   "outputs": [
    {
     "name": "stdout",
     "output_type": "stream",
     "text": [
      "#### 내가만든오류가 생성됐다!###\n"
     ]
    },
    {
     "ename": "CustomException",
     "evalue": "오류가 발생함",
     "output_type": "error",
     "traceback": [
      "\u001b[31m---------------------------------------------------------------------------\u001b[39m",
      "\u001b[31mCustomException\u001b[39m                           Traceback (most recent call last)",
      "\u001b[36mCell\u001b[39m\u001b[36m \u001b[39m\u001b[32mIn[16]\u001b[39m\u001b[32m, line 10\u001b[39m\n\u001b[32m      7\u001b[39m     \u001b[38;5;28;01mdef\u001b[39;00m\u001b[38;5;250m \u001b[39m\u001b[34m__str__\u001b[39m(\u001b[38;5;28mself\u001b[39m):\n\u001b[32m      8\u001b[39m         \u001b[38;5;28;01mreturn\u001b[39;00m \u001b[33m\"\u001b[39m\u001b[33m오류가 발생함\u001b[39m\u001b[33m\"\u001b[39m\n\u001b[32m---> \u001b[39m\u001b[32m10\u001b[39m \u001b[38;5;28;01mraise\u001b[39;00m CustomException\n",
      "\u001b[31mCustomException\u001b[39m: 오류가 발생함"
     ]
    }
   ],
   "source": [
    "#p498\n",
    "\n",
    "class CustomException(Exception):\n",
    "    def __init__(self):\n",
    "        super().__init__()\n",
    "        print(\"#### 내가만든오류가 생성됐다!###\")\n",
    "    def __str__(self):\n",
    "        return \"오류가 발생함\"\n",
    "    \n",
    "raise CustomException"
   ]
  }
 ],
 "metadata": {
  "kernelspec": {
   "display_name": "Python 3",
   "language": "python",
   "name": "python3"
  },
  "language_info": {
   "codemirror_mode": {
    "name": "ipython",
    "version": 3
   },
   "file_extension": ".py",
   "mimetype": "text/x-python",
   "name": "python",
   "nbconvert_exporter": "python",
   "pygments_lexer": "ipython3",
   "version": "3.11.9"
  }
 },
 "nbformat": 4,
 "nbformat_minor": 5
}
