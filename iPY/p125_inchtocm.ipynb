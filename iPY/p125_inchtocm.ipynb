{
 "cells": [
  {
   "cell_type": "code",
   "execution_count": 1,
   "metadata": {},
   "outputs": [
    {
     "name": "stdout",
     "output_type": "stream",
     "text": [
      "27 inch는 cm 단위로 68.58 cm 입니다.\n"
     ]
    }
   ],
   "source": [
    "raw_input = input(\"inch 단위의 숫자를 입력: \")\n",
    "\n",
    "inch = int(raw_input)\n",
    "cm = inch * 2.54\n",
    "\n",
    "print(inch, \"inch는 cm 단위로\", cm, \"cm 입니다.\")"
   ]
  }
 ],
 "metadata": {
  "kernelspec": {
   "display_name": "Python 3",
   "language": "python",
   "name": "python3"
  },
  "language_info": {
   "codemirror_mode": {
    "name": "ipython",
    "version": 3
   },
   "file_extension": ".py",
   "mimetype": "text/x-python",
   "name": "python",
   "nbconvert_exporter": "python",
   "pygments_lexer": "ipython3",
   "version": "3.11.9"
  }
 },
 "nbformat": 4,
 "nbformat_minor": 2
}
